{
 "cells": [
  {
   "cell_type": "code",
   "execution_count": 178,
   "metadata": {},
   "outputs": [],
   "source": [
    "from bs4 import BeautifulSoup\n",
    "import requests\n",
    "import pandas as pd"
   ]
  },
  {
   "cell_type": "code",
   "execution_count": 4,
   "metadata": {},
   "outputs": [],
   "source": [
    "#importo el código como texto\n",
    "url = \"https://sit.goreloslagos.cl/arcgis/rest/services\"\n",
    "soup = BeautifulSoup(requests.get(url).text)"
   ]
  },
  {
   "cell_type": "code",
   "execution_count": 5,
   "metadata": {},
   "outputs": [],
   "source": [
    "#nombre de carpeta\n",
    "#extraigo el texto desde <ul> y lo separo\n",
    "querry = soup.find('div', class_=\"rbody\")\n",
    "carpeta = querry.ul.text.split('\\n')"
   ]
  },
  {
   "cell_type": "code",
   "execution_count": 142,
   "metadata": {},
   "outputs": [],
   "source": [
    "#url_carpeta\n",
    "#agrego la url de cada bd (las cuales contiene capas por tematica)\n",
    "i=1\n",
    "url_db = []\n",
    "for i in range(len(carpeta)):\n",
    "    if carpeta[i] != '' and carpeta[i] != 'System':\n",
    "        url_db.append(str(url) + '/'+ carpeta[i])"
   ]
  },
  {
   "cell_type": "code",
   "execution_count": 157,
   "metadata": {},
   "outputs": [],
   "source": [
    "#url_capa\n",
    "#Agregar url de cada capa a url_capa y el nombre de la capa\n",
    "url_capa = []\n",
    "for i in range(len(url_db)):\n",
    "    soup = BeautifulSoup(requests.get(url_db[i]).text)\n",
    "    querry = soup.find_all('li')\n",
    "    for k in range(len(querry)):\n",
    "        url_capa.append('https://sit.goreloslagos.cl' + querry[k].a['href'] + '/0')\n",
    "#        nombre_capa.append(('https://sit.goreloslagos.cl' + querry[k].a['href']).replace(\"/MapServer\",\"\").replace(str(url_db[i]),\"\"))\n",
    "url_capa[11] = url_capa[11].replace(\"/0\",\"/1\")"
   ]
  },
  {
   "cell_type": "code",
   "execution_count": 160,
   "metadata": {},
   "outputs": [],
   "source": [
    "#Nombre de capa\n",
    "nombre_capa = []\n",
    "for i in range(len(url_capa)):\n",
    "    soup = BeautifulSoup(requests.get(url_capa[i]).text)\n",
    "    querry = soup.find('div', class_=\"rbody\")\n",
    "    nombre_capa.append(querry.b.next_sibling)"
   ]
  },
  {
   "cell_type": "code",
   "execution_count": 174,
   "metadata": {},
   "outputs": [],
   "source": [
    "#Descripcion\n",
    "descr_capa = []\n",
    "for i in range(len(url_capa)):\n",
    "    soup = BeautifulSoup(requests.get(url_capa[i]).text)\n",
    "    querry = soup.find('div', class_=\"rbody\")\n",
    "    descripcion = querry.find(\"b\", text=\"Description: \").next_sibling\n",
    "    descr_capa.append(descripcion.replace(\"\\n\",\" \"))"
   ]
  },
  {
   "cell_type": "code",
   "execution_count": 136,
   "metadata": {},
   "outputs": [],
   "source": [
    "#Lista de campos\n",
    "#se agrega como string cada lista de atributos de capa en una lista mayor\n",
    "campos = []\n",
    "campo_ind = []\n",
    "for i in range(len(url_capa)):\n",
    "    soup = BeautifulSoup(requests.get(url_capa[i]).text)\n",
    "    querry = soup.find_all('li')\n",
    "    campo_ind = []\n",
    "    for j in range(len(querry)):\n",
    "        if querry[j].find(text=True).replace(\"\\r\\n\",\"\") != '\\n':\n",
    "            campo_ind.append(querry[j].find(text=True).replace(\"\\r\\n\",\"\"))\n",
    "    campos.append(','.join(campo_ind))"
   ]
  },
  {
   "cell_type": "code",
   "execution_count": 202,
   "metadata": {},
   "outputs": [],
   "source": [
    "ide_los_lagos = pd.DataFrame(\n",
    "    {'Nombre_capa': nombre_capa,\n",
    "     'Url_capa': url_capa,\n",
    "     'Descripcion': descr_capa,\n",
    "     'Atributos': campos\n",
    "    })"
   ]
  },
  {
   "cell_type": "code",
   "execution_count": 211,
   "metadata": {},
   "outputs": [],
   "source": [
    "ide_los_lagos.to_csv('Info_IDE_Los_Lagos.csv', sep = \";\", encoding = \"windows-1252\")"
   ]
  },
  {
   "cell_type": "code",
   "execution_count": 1,
   "metadata": {},
   "outputs": [],
   "source": [
    "#Agregar alias de los atributos (no es tan prioritario)\n",
    "#la ide los lagos tiene buenas descripciones (casi siempre) en los metadatos, es decir fuente, escala.\n",
    "#la ide subpesca no tiene tan buenas descripciones. la información generada por ellos que es la importante, tiene buenos alias.\n",
    "#hoy termino esto y mañana veo que onda con los xonos"
   ]
  }
 ],
 "metadata": {
  "kernelspec": {
   "display_name": "Python 3",
   "language": "python",
   "name": "python3"
  },
  "language_info": {
   "codemirror_mode": {
    "name": "ipython",
    "version": 3
   },
   "file_extension": ".py",
   "mimetype": "text/x-python",
   "name": "python",
   "nbconvert_exporter": "python",
   "pygments_lexer": "ipython3",
   "version": "3.7.1"
  }
 },
 "nbformat": 4,
 "nbformat_minor": 4
}
